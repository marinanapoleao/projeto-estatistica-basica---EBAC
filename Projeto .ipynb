{
 "cells": [
  {
   "cell_type": "markdown",
   "id": "a4d68b5c-8ecb-43f2-a112-b2f903fc4628",
   "metadata": {},
   "source": [
    "# **MÓDULO 13**\n",
    "# Projeto - Fundamentos da Descoberta de Dados\n",
    "\n",
    "Nesse projeto trabalharemos com a base de dados de produtos de um supermercado do Chile.\n",
    "A ideia é que vocês apliquem os conceitos estatísticos vistos no último módulo, mais os conceitos de visualizações de dados através de gráficos e finalizem publicando no seu github!"
   ]
  },
  {
   "cell_type": "markdown",
   "id": "d026189e-3b8b-456e-b11b-3ced5ba9a756",
   "metadata": {},
   "source": [
    "Os campos do nosso dataframe são:\n",
    "\n",
    "**Title:** Nome do produto.\n",
    "\n",
    "\n",
    "**Marca:** A marca do produto.\n",
    "\n",
    "\n",
    "**Preco_Normal:** O preço em que o produto costuma ser vendido quando não há desconto.\n",
    "\n",
    "\n",
    "**Preco_Desconto:** O preço vendido após o desconto ser aplicado.\n",
    "\n",
    "\n",
    "**Preco_Anterior:** Preço em que era comercializado o produto antes do desconto aplicado.\n",
    "\n",
    "\n",
    "**Desconto:** Total de desconto aplicado.\n",
    "\n",
    "\n",
    "\n",
    "\n",
    "\n",
    "\n",
    "As colunas que aparecem com valores 0 são para os produtos onde não tivemos descontos aplicados.\n",
    "\n",
    "\n",
    "As categorias estão em espanhol!"
   ]
  },
  {
   "cell_type": "code",
   "execution_count": 1,
   "id": "03ed9eed-1c40-439a-9e8c-431aa5608bc9",
   "metadata": {},
   "outputs": [],
   "source": [
    "import pandas as pd\n",
    "import matplotlib.pyplot as plt\n",
    "import plotly.express as px"
   ]
  },
  {
   "cell_type": "code",
   "execution_count": 2,
   "id": "aae8e36b-f7bc-4eeb-9179-cca34ffa7f9b",
   "metadata": {},
   "outputs": [],
   "source": [
    "import numpy as np\n",
    "from scipy import stats"
   ]
  },
  {
   "cell_type": "markdown",
   "id": "55c881b0-fc16-4f2a-a492-aca9bf73fdf4",
   "metadata": {},
   "source": [
    "Faça a leitura dos dados do arquivo CSV:\n",
    "\n",
    "\n",
    "Altere o código abaixo de acordo com seu diretório."
   ]
  },
  {
   "cell_type": "code",
   "execution_count": 3,
   "id": "8a4513c6-2fa3-46d6-978d-61fb15dc86cf",
   "metadata": {},
   "outputs": [
    {
     "data": {
      "text/html": [
       "<div>\n",
       "<style scoped>\n",
       "    .dataframe tbody tr th:only-of-type {\n",
       "        vertical-align: middle;\n",
       "    }\n",
       "\n",
       "    .dataframe tbody tr th {\n",
       "        vertical-align: top;\n",
       "    }\n",
       "\n",
       "    .dataframe thead th {\n",
       "        text-align: right;\n",
       "    }\n",
       "</style>\n",
       "<table border=\"1\" class=\"dataframe\">\n",
       "  <thead>\n",
       "    <tr style=\"text-align: right;\">\n",
       "      <th></th>\n",
       "      <th>title</th>\n",
       "      <th>Marca</th>\n",
       "      <th>Preco_Normal</th>\n",
       "      <th>Preco_Desconto</th>\n",
       "      <th>Preco_Anterior</th>\n",
       "      <th>Desconto</th>\n",
       "      <th>Categoria</th>\n",
       "    </tr>\n",
       "  </thead>\n",
       "  <tbody>\n",
       "    <tr>\n",
       "      <th>0</th>\n",
       "      <td>Pack 12 un, Leche extra proteína 1 L</td>\n",
       "      <td>Loncoleche</td>\n",
       "      <td>19788</td>\n",
       "      <td>0</td>\n",
       "      <td>0</td>\n",
       "      <td>0</td>\n",
       "      <td>lacteos</td>\n",
       "    </tr>\n",
       "    <tr>\n",
       "      <th>1</th>\n",
       "      <td>Pack 12 un, Leche chocolate receta original 1 L</td>\n",
       "      <td>Soprole</td>\n",
       "      <td>18228</td>\n",
       "      <td>0</td>\n",
       "      <td>0</td>\n",
       "      <td>0</td>\n",
       "      <td>lacteos</td>\n",
       "    </tr>\n",
       "    <tr>\n",
       "      <th>2</th>\n",
       "      <td>Pack 12 un, Leche semidescremada chocolate 1 L</td>\n",
       "      <td>Soprole</td>\n",
       "      <td>18228</td>\n",
       "      <td>0</td>\n",
       "      <td>0</td>\n",
       "      <td>0</td>\n",
       "      <td>lacteos</td>\n",
       "    </tr>\n",
       "    <tr>\n",
       "      <th>3</th>\n",
       "      <td>Pack 12 un, Leche semidescremada frutilla 1 L</td>\n",
       "      <td>Soprole</td>\n",
       "      <td>18228</td>\n",
       "      <td>0</td>\n",
       "      <td>0</td>\n",
       "      <td>0</td>\n",
       "      <td>lacteos</td>\n",
       "    </tr>\n",
       "    <tr>\n",
       "      <th>4</th>\n",
       "      <td>Pack 12 un, Leche sin lactosa chocolate 1 L</td>\n",
       "      <td>Loncoleche</td>\n",
       "      <td>17988</td>\n",
       "      <td>0</td>\n",
       "      <td>0</td>\n",
       "      <td>0</td>\n",
       "      <td>lacteos</td>\n",
       "    </tr>\n",
       "    <tr>\n",
       "      <th>5</th>\n",
       "      <td>Pack 12 un, Leche sin lactosa frutilla 1 L</td>\n",
       "      <td>Loncoleche</td>\n",
       "      <td>17988</td>\n",
       "      <td>0</td>\n",
       "      <td>0</td>\n",
       "      <td>0</td>\n",
       "      <td>lacteos</td>\n",
       "    </tr>\n",
       "    <tr>\n",
       "      <th>6</th>\n",
       "      <td>Pack 12 un, Leche saborizada light chocolate 1 L</td>\n",
       "      <td>Loncoleche</td>\n",
       "      <td>17988</td>\n",
       "      <td>0</td>\n",
       "      <td>0</td>\n",
       "      <td>0</td>\n",
       "      <td>lacteos</td>\n",
       "    </tr>\n",
       "    <tr>\n",
       "      <th>7</th>\n",
       "      <td>Pack 12 un, Leche saborizada frutilla 1 L</td>\n",
       "      <td>Colun</td>\n",
       "      <td>17388</td>\n",
       "      <td>0</td>\n",
       "      <td>0</td>\n",
       "      <td>0</td>\n",
       "      <td>lacteos</td>\n",
       "    </tr>\n",
       "    <tr>\n",
       "      <th>8</th>\n",
       "      <td>Pack 12 un, Leche saborizada vainilla 1 L</td>\n",
       "      <td>Colun</td>\n",
       "      <td>17388</td>\n",
       "      <td>0</td>\n",
       "      <td>0</td>\n",
       "      <td>0</td>\n",
       "      <td>lacteos</td>\n",
       "    </tr>\n",
       "    <tr>\n",
       "      <th>9</th>\n",
       "      <td>Pack 12 un, Leche saborizada manjar 1 L</td>\n",
       "      <td>Colun</td>\n",
       "      <td>17388</td>\n",
       "      <td>0</td>\n",
       "      <td>0</td>\n",
       "      <td>0</td>\n",
       "      <td>lacteos</td>\n",
       "    </tr>\n",
       "  </tbody>\n",
       "</table>\n",
       "</div>"
      ],
      "text/plain": [
       "                                              title       Marca  Preco_Normal  \\\n",
       "0              Pack 12 un, Leche extra proteína 1 L  Loncoleche         19788   \n",
       "1   Pack 12 un, Leche chocolate receta original 1 L     Soprole         18228   \n",
       "2    Pack 12 un, Leche semidescremada chocolate 1 L     Soprole         18228   \n",
       "3     Pack 12 un, Leche semidescremada frutilla 1 L     Soprole         18228   \n",
       "4       Pack 12 un, Leche sin lactosa chocolate 1 L  Loncoleche         17988   \n",
       "5        Pack 12 un, Leche sin lactosa frutilla 1 L  Loncoleche         17988   \n",
       "6  Pack 12 un, Leche saborizada light chocolate 1 L  Loncoleche         17988   \n",
       "7         Pack 12 un, Leche saborizada frutilla 1 L       Colun         17388   \n",
       "8         Pack 12 un, Leche saborizada vainilla 1 L       Colun         17388   \n",
       "9           Pack 12 un, Leche saborizada manjar 1 L       Colun         17388   \n",
       "\n",
       "   Preco_Desconto  Preco_Anterior  Desconto Categoria  \n",
       "0               0               0         0   lacteos  \n",
       "1               0               0         0   lacteos  \n",
       "2               0               0         0   lacteos  \n",
       "3               0               0         0   lacteos  \n",
       "4               0               0         0   lacteos  \n",
       "5               0               0         0   lacteos  \n",
       "6               0               0         0   lacteos  \n",
       "7               0               0         0   lacteos  \n",
       "8               0               0         0   lacteos  \n",
       "9               0               0         0   lacteos  "
      ]
     },
     "execution_count": 3,
     "metadata": {},
     "output_type": "execute_result"
    }
   ],
   "source": [
    "df = pd.read_csv(\"MODULO7_PROJETOFINAL_BASE_SUPERMERCADO.csv\")\n",
    "\n",
    "df.head(10)"
   ]
  },
  {
   "cell_type": "code",
   "execution_count": 4,
   "id": "e6390bae-f49b-45de-9213-db8c9d10240a",
   "metadata": {},
   "outputs": [
    {
     "name": "stdout",
     "output_type": "stream",
     "text": [
      "Qtd de valores nulos com Desconto:  0\n"
     ]
    }
   ],
   "source": [
    "df_fillna = df.fillna(0)  #Substituir valores nulos\n",
    "df_dropna= df.dropna()  #Remover registro com valores nulos\n",
    "df = df.dropna(subset=['Desconto'])  #Remover registro com Desconto nulo\n",
    "print('Qtd de valores nulos com Desconto: ', df.isnull().sum().sum())"
   ]
  },
  {
   "cell_type": "code",
   "execution_count": 5,
   "id": "779dd9c3-e322-4424-8b1d-7e38e07af8e0",
   "metadata": {},
   "outputs": [
    {
     "name": "stdout",
     "output_type": "stream",
     "text": [
      "Qtd de valores nulos com Preco_Normal:  0\n"
     ]
    }
   ],
   "source": [
    "df_fillna = df.fillna(0)  #Substituir valores nulos\n",
    "df_dropna= df.dropna()  #Remover registro com valores nulos\n",
    "df = df.dropna(subset=['Preco_Normal'])  #Remover registro com Preço Normal nulo\n",
    "print('Qtd de valores nulos com Preco_Normal: ', df.isnull().sum().sum())"
   ]
  },
  {
   "cell_type": "code",
   "execution_count": 6,
   "id": "209947fb-3626-46e1-9fa4-04f5f5be5d8d",
   "metadata": {},
   "outputs": [
    {
     "name": "stdout",
     "output_type": "stream",
     "text": [
      "\n",
      " Outilers pelo Z-score: \n",
      "                                                 title         Marca  \\\n",
      "0                Pack 12 un, Leche extra proteína 1 L    Loncoleche   \n",
      "1     Pack 12 un, Leche chocolate receta original 1 L       Soprole   \n",
      "2      Pack 12 un, Leche semidescremada chocolate 1 L       Soprole   \n",
      "3       Pack 12 un, Leche semidescremada frutilla 1 L       Soprole   \n",
      "4         Pack 12 un, Leche sin lactosa chocolate 1 L    Loncoleche   \n",
      "5          Pack 12 un, Leche sin lactosa frutilla 1 L    Loncoleche   \n",
      "6    Pack 12 un, Leche saborizada light chocolate 1 L    Loncoleche   \n",
      "7           Pack 12 un, Leche saborizada frutilla 1 L         Colun   \n",
      "8           Pack 12 un, Leche saborizada vainilla 1 L         Colun   \n",
      "9             Pack 12 un, Leche saborizada manjar 1 L         Colun   \n",
      "10           Pack 12 un, Leche saborizada plátano 1 L    Loncoleche   \n",
      "11         Pack 12 un, Leche saborizada chocolate 1 L    Loncoleche   \n",
      "12                    Pack 12 un, Leche chocolate 1 L         Colun   \n",
      "13           Pack 12 un, Leche chocolate sin tapa 1 L         Colun   \n",
      "14                    Pañal Plenitud Protect G 22 un,      Plenitud   \n",
      "15     Pack 12 un, Leche sin lactosa extra calcio 1 L    Loncoleche   \n",
      "16           Leche en Polvo Nido Etapa 5+ Tarro 1600g          Nido   \n",
      "17       Pack 12 un, Leche descremada sin lactosa 1 L         Colun   \n",
      "18           Pack 12 un, Leche entera sin lactosa 1 L         Colun   \n",
      "19   Pack 12 un, Leche semidescremada sin lactosa 1 L         Colun   \n",
      "20   Pack 12 un, Leche semidescremada sin lactosa 1 L    Loncoleche   \n",
      "21          Pack 12 un, Leche natural sin lactosa 1 L    Loncoleche   \n",
      "22                   Leche en Polvo Nido Entera 1500g          Nido   \n",
      "23      Pack 12 un, Leche semidescremada sin tapa 1 L         Colun   \n",
      "24          Pack 12 un, Leche descremada sin tapa 1 L         Colun   \n",
      "25         Pañales para adultos Tena Pants G 16 unid,          Tena   \n",
      "26         Pañales para adultos Tena Pants M 16 unid,          Tena   \n",
      "27       Pack 12 un, Leche descremada sin lactosa 1 L    Loncoleche   \n",
      "28   Pack 12 un, Leche sin lactosa semidescremada 1 L  Cuisine & Co   \n",
      "29          Pack 12 un, Leche entera 100% natural 1 L       Soprole   \n",
      "30  Pack 12 un, Leche semidescremada 100% natural 1 L       Soprole   \n",
      "31      Pack 12 un, Leche descremada 100% natural 1 L       Soprole   \n",
      "\n",
      "    Preco_Normal  Preco_Desconto  Preco_Anterior  Desconto  \\\n",
      "0          19788               0               0         0   \n",
      "1          18228               0               0         0   \n",
      "2          18228               0               0         0   \n",
      "3          18228               0               0         0   \n",
      "4          17988               0               0         0   \n",
      "5          17988               0               0         0   \n",
      "6          17988               0               0         0   \n",
      "7          17388               0               0         0   \n",
      "8          17388               0               0         0   \n",
      "9          17388               0               0         0   \n",
      "10         17388               0               0         0   \n",
      "11         17388               0               0         0   \n",
      "12         17268               0               0         0   \n",
      "13         17268               0               0         0   \n",
      "14         16799               0               0         0   \n",
      "15         16788               0               0         0   \n",
      "16         16190               0               0         0   \n",
      "17         14268               0               0         0   \n",
      "18         14268               0               0         0   \n",
      "19         14268               0               0         0   \n",
      "20         13908               0               0         0   \n",
      "21         13908               0               0         0   \n",
      "22         12149               0               0         0   \n",
      "23         11988               0               0         0   \n",
      "24         11988               0               0         0   \n",
      "25         11950               0               0         0   \n",
      "26         11950               0               0         0   \n",
      "27         11868               0               0         0   \n",
      "28         11868               0               0         0   \n",
      "29         11268               0               0         0   \n",
      "30         11268               0               0         0   \n",
      "31         11268               0               0         0   \n",
      "\n",
      "                     Categoria  \n",
      "0                      lacteos  \n",
      "1                      lacteos  \n",
      "2                      lacteos  \n",
      "3                      lacteos  \n",
      "4                      lacteos  \n",
      "5                      lacteos  \n",
      "6                      lacteos  \n",
      "7                      lacteos  \n",
      "8                      lacteos  \n",
      "9                      lacteos  \n",
      "10                     lacteos  \n",
      "11                     lacteos  \n",
      "12                     lacteos  \n",
      "13                     lacteos  \n",
      "14  belleza-y-cuidado-personal  \n",
      "15                     lacteos  \n",
      "16                     lacteos  \n",
      "17                     lacteos  \n",
      "18                     lacteos  \n",
      "19                     lacteos  \n",
      "20                     lacteos  \n",
      "21                     lacteos  \n",
      "22                     lacteos  \n",
      "23                     lacteos  \n",
      "24                     lacteos  \n",
      "25  belleza-y-cuidado-personal  \n",
      "26  belleza-y-cuidado-personal  \n",
      "27                     lacteos  \n",
      "28                     lacteos  \n",
      "29                     lacteos  \n",
      "30                     lacteos  \n",
      "31                     lacteos  \n"
     ]
    }
   ],
   "source": [
    "# Identificar outliers com Z-score\n",
    "z_score = stats.zscore(df['Preco_Normal'].dropna())\n",
    "mask = np.abs(z_score) >= 3\n",
    "outliers_z = df.loc[df['Preco_Normal'].dropna().index[mask]]\n",
    "print('\\n Outilers pelo Z-score: \\n', outliers_z)"
   ]
  },
  {
   "cell_type": "code",
   "execution_count": 7,
   "id": "e3c04125-cc1f-4ec5-a631-d153130b7da7",
   "metadata": {},
   "outputs": [
    {
     "name": "stdout",
     "output_type": "stream",
     "text": [
      "                                                 title         Marca  \\\n",
      "32     Leche en Polvo Nido Forticrece Sin lactosa 840g          Nido   \n",
      "33                        Pack 12 un, Leche entera 1 L  Cuisine & Co   \n",
      "34                Pack 12 un, Leche semidescremada 1 L  Cuisine & Co   \n",
      "35                Pack 12 un, leche descremada 1 L c/u  Cuisine & Co   \n",
      "36                         Churrascos de asiento 720 g  Cuisine & Co   \n",
      "...                                                ...           ...   \n",
      "1102                  Helado bresler pote cassata 2,4l       Bresler   \n",
      "1103   Helado Trisabor chocolate lúcuma y manjar 2,4 L       Bresler   \n",
      "1104            Shampoo Reconstrucción Completa 400 ml          Dove   \n",
      "1105         Acondicionador Hidratación Intensa 400 ml          Dove   \n",
      "1106  Leche en Polvo Nido Forticrece Sin lactosa 1440g          Nido   \n",
      "\n",
      "      Preco_Normal  Preco_Desconto  Preco_Anterior  Desconto  \\\n",
      "32           10599               0               0         0   \n",
      "33           10188               0               0         0   \n",
      "34           10188               0               0         0   \n",
      "35           10188               0               0         0   \n",
      "36            9979               0               0         0   \n",
      "...            ...             ...             ...       ...   \n",
      "1102             0            4359            5449      1090   \n",
      "1103             0            4359            5449      1090   \n",
      "1104             0            2690            3849      1159   \n",
      "1105             0            2690            3849      1159   \n",
      "1106             0           14550           18899      4349   \n",
      "\n",
      "                       Categoria  \n",
      "32                       lacteos  \n",
      "33                       lacteos  \n",
      "34                       lacteos  \n",
      "35                       lacteos  \n",
      "36                    congelados  \n",
      "...                          ...  \n",
      "1102                  congelados  \n",
      "1103                  congelados  \n",
      "1104  belleza-y-cuidado-personal  \n",
      "1105  belleza-y-cuidado-personal  \n",
      "1106                     lacteos  \n",
      "\n",
      "[1075 rows x 7 columns]\n"
     ]
    }
   ],
   "source": [
    "df_sem_outliers = df.drop(index=outliers_z.index)\n",
    "print(df_sem_outliers)"
   ]
  },
  {
   "cell_type": "markdown",
   "id": "929bab77-2e85-4a3d-ba46-40d3e2775e01",
   "metadata": {},
   "source": [
    "-------------"
   ]
  },
  {
   "cell_type": "markdown",
   "id": "07c96805-de59-498c-8e33-eab5874e0d94",
   "metadata": {},
   "source": [
    "# 1 - Traga a média e a mediana dos preços - coluna Preco_Normal - por categoria de produto.\n",
    "# Identifique as categorias que parecem ter um valor de média abaixo ou acima da mediana."
   ]
  },
  {
   "cell_type": "code",
   "execution_count": 8,
   "id": "c79e8ab7-c2d7-4130-b88f-4228cc28049d",
   "metadata": {},
   "outputs": [
    {
     "data": {
      "text/html": [
       "<div>\n",
       "<style scoped>\n",
       "    .dataframe tbody tr th:only-of-type {\n",
       "        vertical-align: middle;\n",
       "    }\n",
       "\n",
       "    .dataframe tbody tr th {\n",
       "        vertical-align: top;\n",
       "    }\n",
       "\n",
       "    .dataframe thead th {\n",
       "        text-align: right;\n",
       "    }\n",
       "</style>\n",
       "<table border=\"1\" class=\"dataframe\">\n",
       "  <thead>\n",
       "    <tr style=\"text-align: right;\">\n",
       "      <th></th>\n",
       "      <th>Preco_Normal</th>\n",
       "      <th>Preco_Desconto</th>\n",
       "      <th>Preco_Anterior</th>\n",
       "      <th>Desconto</th>\n",
       "    </tr>\n",
       "  </thead>\n",
       "  <tbody>\n",
       "    <tr>\n",
       "      <th>count</th>\n",
       "      <td>1107.000000</td>\n",
       "      <td>1107.000000</td>\n",
       "      <td>1107.000000</td>\n",
       "      <td>1107.000000</td>\n",
       "    </tr>\n",
       "    <tr>\n",
       "      <th>mean</th>\n",
       "      <td>2070.997290</td>\n",
       "      <td>522.269196</td>\n",
       "      <td>372.257453</td>\n",
       "      <td>68.109304</td>\n",
       "    </tr>\n",
       "    <tr>\n",
       "      <th>std</th>\n",
       "      <td>2961.257627</td>\n",
       "      <td>1339.559852</td>\n",
       "      <td>1239.475017</td>\n",
       "      <td>241.158310</td>\n",
       "    </tr>\n",
       "    <tr>\n",
       "      <th>min</th>\n",
       "      <td>0.000000</td>\n",
       "      <td>0.000000</td>\n",
       "      <td>0.000000</td>\n",
       "      <td>0.000000</td>\n",
       "    </tr>\n",
       "    <tr>\n",
       "      <th>25%</th>\n",
       "      <td>0.000000</td>\n",
       "      <td>0.000000</td>\n",
       "      <td>0.000000</td>\n",
       "      <td>0.000000</td>\n",
       "    </tr>\n",
       "    <tr>\n",
       "      <th>50%</th>\n",
       "      <td>1269.000000</td>\n",
       "      <td>0.000000</td>\n",
       "      <td>0.000000</td>\n",
       "      <td>0.000000</td>\n",
       "    </tr>\n",
       "    <tr>\n",
       "      <th>75%</th>\n",
       "      <td>2849.000000</td>\n",
       "      <td>0.000000</td>\n",
       "      <td>0.000000</td>\n",
       "      <td>0.000000</td>\n",
       "    </tr>\n",
       "    <tr>\n",
       "      <th>max</th>\n",
       "      <td>19788.000000</td>\n",
       "      <td>14550.000000</td>\n",
       "      <td>18899.000000</td>\n",
       "      <td>4349.000000</td>\n",
       "    </tr>\n",
       "  </tbody>\n",
       "</table>\n",
       "</div>"
      ],
      "text/plain": [
       "       Preco_Normal  Preco_Desconto  Preco_Anterior     Desconto\n",
       "count   1107.000000     1107.000000     1107.000000  1107.000000\n",
       "mean    2070.997290      522.269196      372.257453    68.109304\n",
       "std     2961.257627     1339.559852     1239.475017   241.158310\n",
       "min        0.000000        0.000000        0.000000     0.000000\n",
       "25%        0.000000        0.000000        0.000000     0.000000\n",
       "50%     1269.000000        0.000000        0.000000     0.000000\n",
       "75%     2849.000000        0.000000        0.000000     0.000000\n",
       "max    19788.000000    14550.000000    18899.000000  4349.000000"
      ]
     },
     "execution_count": 8,
     "metadata": {},
     "output_type": "execute_result"
    }
   ],
   "source": [
    "df.describe()"
   ]
  },
  {
   "cell_type": "code",
   "execution_count": 9,
   "id": "96d49889-79d7-483e-8ed8-e81417b84b21",
   "metadata": {},
   "outputs": [
    {
     "name": "stdout",
     "output_type": "stream",
     "text": [
      "\n",
      " Media por Categoria:\n",
      " \n",
      "                     Categoria  Preco_Normal\n",
      "1          comidas-preparadas   3095.043478\n",
      "5                     lacteos   2385.219239\n",
      "2                  congelados   2108.042553\n",
      "0  belleza-y-cuidado-personal   1783.556485\n",
      "3                      frutas   1724.473684\n",
      "6                    verduras   1343.296875\n",
      "4        instantaneos-y-sopas    765.491228 \n",
      " \n",
      " Mediana por Categoria: \n",
      "                     Categoria  Preco_Normal\n",
      "1          comidas-preparadas        3290.0\n",
      "0  belleza-y-cuidado-personal        1569.0\n",
      "2                  congelados        1519.0\n",
      "3                      frutas        1195.0\n",
      "6                    verduras        1180.0\n",
      "5                     lacteos         989.0\n",
      "4        instantaneos-y-sopas         439.0\n"
     ]
    }
   ],
   "source": [
    "media_categoria = df.groupby('Categoria')['Preco_Normal'].mean().reset_index().sort_values(by = 'Preco_Normal', ascending = False)\n",
    "mediana_categoria = df.groupby('Categoria')['Preco_Normal'].median().reset_index().sort_values(by = 'Preco_Normal', ascending = False)\n",
    "print('\\n Media por Categoria:\\n \\n', media_categoria,'\\n \\n Mediana por Categoria: \\n', mediana_categoria)"
   ]
  },
  {
   "cell_type": "code",
   "execution_count": 10,
   "id": "a65e5f82-01a1-4588-b7c9-e62931bf097f",
   "metadata": {},
   "outputs": [
    {
     "data": {
      "text/plain": [
       "2070.9972899728996"
      ]
     },
     "execution_count": 10,
     "metadata": {},
     "output_type": "execute_result"
    }
   ],
   "source": [
    "#Seu código aqui para a média\n",
    "df['Preco_Normal'].mean()"
   ]
  },
  {
   "cell_type": "code",
   "execution_count": 11,
   "id": "b35fc0d4-6b3a-434f-859d-4be2d8112e8a",
   "metadata": {},
   "outputs": [
    {
     "data": {
      "text/plain": [
       "1269.0"
      ]
     },
     "execution_count": 11,
     "metadata": {},
     "output_type": "execute_result"
    }
   ],
   "source": [
    "#Seu código aqui para a mediana\n",
    "df['Preco_Normal'].median()"
   ]
  },
  {
   "cell_type": "code",
   "execution_count": 13,
   "id": "eb9edf5b-943e-4c6b-8b7a-37f0469e41fa",
   "metadata": {},
   "outputs": [
    {
     "name": "stdout",
     "output_type": "stream",
     "text": [
      "\n",
      " Catagorias com valor de média abaixo:\n",
      " belleza-y-cuidado-personal, frutas, verduras, instantaneos-y-sopas\n",
      "\n",
      " Catagorias com valor de acima da mediana:\n",
      " comidas-preparadas, belleza-y-cuidado-personal, congelados\n"
     ]
    }
   ],
   "source": [
    "print('\\n Catagorias com valor de média abaixo:\\n','belleza-y-cuidado-personal, frutas, verduras, instantaneos-y-sopas')\n",
    "print('\\n Catagorias com valor de acima da mediana:\\n', 'comidas-preparadas, belleza-y-cuidado-personal, congelados')"
   ]
  },
  {
   "cell_type": "markdown",
   "id": "9a5c771d-1d7a-4bf1-a2a1-29b9629f5d4f",
   "metadata": {},
   "source": [
    "--------------"
   ]
  },
  {
   "cell_type": "markdown",
   "id": "c50211b6-18b1-4f91-bd16-0ed7c411945a",
   "metadata": {},
   "source": [
    "# 2 - Traga o desvio padrão por categoria de produto.\n",
    "# Qual o comportamento da média e mediana nas categorias com maior desvio?"
   ]
  },
  {
   "cell_type": "code",
   "execution_count": 14,
   "id": "b60ba246-b1c7-480b-b6b4-d2300c98f619",
   "metadata": {},
   "outputs": [
    {
     "data": {
      "text/html": [
       "<div>\n",
       "<style scoped>\n",
       "    .dataframe tbody tr th:only-of-type {\n",
       "        vertical-align: middle;\n",
       "    }\n",
       "\n",
       "    .dataframe tbody tr th {\n",
       "        vertical-align: top;\n",
       "    }\n",
       "\n",
       "    .dataframe thead th {\n",
       "        text-align: right;\n",
       "    }\n",
       "</style>\n",
       "<table border=\"1\" class=\"dataframe\">\n",
       "  <thead>\n",
       "    <tr style=\"text-align: right;\">\n",
       "      <th></th>\n",
       "      <th>Categoria</th>\n",
       "      <th>Preco_Normal</th>\n",
       "    </tr>\n",
       "  </thead>\n",
       "  <tbody>\n",
       "    <tr>\n",
       "      <th>5</th>\n",
       "      <td>lacteos</td>\n",
       "      <td>3925.816164</td>\n",
       "    </tr>\n",
       "    <tr>\n",
       "      <th>0</th>\n",
       "      <td>belleza-y-cuidado-personal</td>\n",
       "      <td>2210.041719</td>\n",
       "    </tr>\n",
       "    <tr>\n",
       "      <th>2</th>\n",
       "      <td>congelados</td>\n",
       "      <td>2111.539896</td>\n",
       "    </tr>\n",
       "    <tr>\n",
       "      <th>1</th>\n",
       "      <td>comidas-preparadas</td>\n",
       "      <td>2019.911428</td>\n",
       "    </tr>\n",
       "    <tr>\n",
       "      <th>3</th>\n",
       "      <td>frutas</td>\n",
       "      <td>1639.151114</td>\n",
       "    </tr>\n",
       "    <tr>\n",
       "      <th>4</th>\n",
       "      <td>instantaneos-y-sopas</td>\n",
       "      <td>1170.232869</td>\n",
       "    </tr>\n",
       "    <tr>\n",
       "      <th>6</th>\n",
       "      <td>verduras</td>\n",
       "      <td>1012.699625</td>\n",
       "    </tr>\n",
       "  </tbody>\n",
       "</table>\n",
       "</div>"
      ],
      "text/plain": [
       "                    Categoria  Preco_Normal\n",
       "5                     lacteos   3925.816164\n",
       "0  belleza-y-cuidado-personal   2210.041719\n",
       "2                  congelados   2111.539896\n",
       "1          comidas-preparadas   2019.911428\n",
       "3                      frutas   1639.151114\n",
       "4        instantaneos-y-sopas   1170.232869\n",
       "6                    verduras   1012.699625"
      ]
     },
     "execution_count": 14,
     "metadata": {},
     "output_type": "execute_result"
    }
   ],
   "source": [
    "#Seu código aqui\n",
    "desvio_padrao_categoria = df.groupby('Categoria')['Preco_Normal'].std().reset_index().sort_values(by = 'Preco_Normal', ascending = False)\n",
    "desvio_padrao_categoria"
   ]
  },
  {
   "cell_type": "code",
   "execution_count": 15,
   "id": "43afefd0-3487-41a7-9574-86255644044c",
   "metadata": {},
   "outputs": [
    {
     "name": "stdout",
     "output_type": "stream",
     "text": [
      "\n",
      " Mairoes valores no desvio padrão: lacteos, belleza-y-cuidado-personal\n",
      "\n",
      " Menores valores no desvio padrão: instantaneos-y-sopas, verduras\n"
     ]
    }
   ],
   "source": [
    "print('\\n Mairoes valores no desvio padrão:', 'lacteos, belleza-y-cuidado-personal')\n",
    "print('\\n Menores valores no desvio padrão:', 'instantaneos-y-sopas, verduras')"
   ]
  },
  {
   "cell_type": "code",
   "execution_count": 16,
   "id": "7c14ed07-bfa7-441f-acb0-a028f005a4a0",
   "metadata": {},
   "outputs": [
    {
     "name": "stdout",
     "output_type": "stream",
     "text": [
      "\n",
      " Media por Categoria:\n",
      " \n",
      "                     Categoria  Preco_Normal\n",
      "1          comidas-preparadas   3095.043478\n",
      "5                     lacteos   2385.219239\n",
      "2                  congelados   2108.042553\n",
      "0  belleza-y-cuidado-personal   1783.556485\n",
      "3                      frutas   1724.473684\n",
      "6                    verduras   1343.296875\n",
      "4        instantaneos-y-sopas    765.491228 \n",
      " \n",
      " Mediana por Categoria: \n",
      "                     Categoria  Preco_Normal\n",
      "1          comidas-preparadas        3290.0\n",
      "0  belleza-y-cuidado-personal        1569.0\n",
      "2                  congelados        1519.0\n",
      "3                      frutas        1195.0\n",
      "6                    verduras        1180.0\n",
      "5                     lacteos         989.0\n",
      "4        instantaneos-y-sopas         439.0\n"
     ]
    }
   ],
   "source": [
    "media_categoria = df.groupby('Categoria')['Preco_Normal'].mean().reset_index().sort_values(by = 'Preco_Normal', ascending = False)\n",
    "mediana_categoria = df.groupby('Categoria')['Preco_Normal'].median().reset_index().sort_values(by = 'Preco_Normal', ascending = False)\n",
    "print('\\n Media por Categoria:\\n \\n', media_categoria,'\\n \\n Mediana por Categoria: \\n', mediana_categoria)"
   ]
  },
  {
   "cell_type": "markdown",
   "id": "d9874818-a58c-4389-b9d3-adbd36e38da9",
   "metadata": {},
   "source": [
    "* Maior valor no desvio padrão: lacteos. | Os laticínios possuem o maior valor no desvio padrão e também apresentam uma média alta, enquanto a mediana é baixa.\n",
    "\n",
    "\n",
    "* Menor valor no desvio padrão: verduras. | As verduras possuem o menor valor no desvio padrão e também apresentam valores baixos tanto na média quanto na mediana.\n"
   ]
  },
  {
   "cell_type": "markdown",
   "id": "605bdf25-744c-48b3-91f9-c0ab6b277c29",
   "metadata": {},
   "source": [
    "-------------"
   ]
  },
  {
   "cell_type": "markdown",
   "id": "c1f90380-099a-4200-b0e1-9b9b8b75367b",
   "metadata": {},
   "source": [
    "# 3 - Plot um boxplot da distribuição do Preco_Normal para a categoria que você identificou que tem o maior desvio padrão. Como é a distribuição desses dados segundo o boxplot? Você identifica muitos outliers?\n",
    "\n",
    "Dica: Para trazer apenas os dados da categoria que você deseja você pode usar o df.loc[df['Categoria'] == 'CATEGORIA ESCOLHIDA'"
   ]
  },
  {
   "cell_type": "code",
   "execution_count": 17,
   "id": "f6911642-81d3-4157-be33-d36e7c84d374",
   "metadata": {},
   "outputs": [
    {
     "data": {
      "application/vnd.plotly.v1+json": {
       "config": {
        "plotlyServerURL": "https://plot.ly"
       },
       "data": [
        {
         "hovertemplate": "Destaque=Lácteos (Maior Desvio)<br>Preço Médio ($)=%{x}<br>Categoria=%{y}<extra></extra>",
         "legendgroup": "Lácteos (Maior Desvio)",
         "marker": {
          "color": "#1f77b4",
          "pattern": {
           "shape": ""
          }
         },
         "name": "Lácteos (Maior Desvio)",
         "orientation": "h",
         "showlegend": true,
         "textposition": "auto",
         "type": "bar",
         "x": {
          "bdata": "mAQ84KGrrkA=",
          "dtype": "f8"
         },
         "xaxis": "x",
         "y": [
          "lacteos"
         ],
         "yaxis": "y"
        },
        {
         "hovertemplate": "Destaque=Outras Categorias<br>Preço Médio ($)=%{x}<br>Categoria=%{y}<extra></extra>",
         "legendgroup": "Outras Categorias",
         "marker": {
          "color": "#e08214",
          "pattern": {
           "shape": ""
          }
         },
         "name": "Outras Categorias",
         "orientation": "h",
         "showlegend": true,
         "textposition": "auto",
         "type": "bar",
         "x": {
          "bdata": "37AsXBVEoUCdK0ZtFH+gQHAZT02lj59Ai5WbvZqcmUDJQVJ17kiSQJ9AvtSYpY9A",
          "dtype": "f8"
         },
         "xaxis": "x",
         "y": [
          "belleza-y-cuidado-personal",
          "congelados",
          "comidas-preparadas",
          "frutas",
          "instantaneos-y-sopas",
          "verduras"
         ],
         "yaxis": "y"
        }
       ],
       "layout": {
        "barmode": "relative",
        "legend": {
         "title": {
          "text": "Destaque"
         },
         "tracegroupgap": 0
        },
        "template": {
         "data": {
          "bar": [
           {
            "error_x": {
             "color": "#2a3f5f"
            },
            "error_y": {
             "color": "#2a3f5f"
            },
            "marker": {
             "line": {
              "color": "#E5ECF6",
              "width": 0.5
             },
             "pattern": {
              "fillmode": "overlay",
              "size": 10,
              "solidity": 0.2
             }
            },
            "type": "bar"
           }
          ],
          "barpolar": [
           {
            "marker": {
             "line": {
              "color": "#E5ECF6",
              "width": 0.5
             },
             "pattern": {
              "fillmode": "overlay",
              "size": 10,
              "solidity": 0.2
             }
            },
            "type": "barpolar"
           }
          ],
          "carpet": [
           {
            "aaxis": {
             "endlinecolor": "#2a3f5f",
             "gridcolor": "white",
             "linecolor": "white",
             "minorgridcolor": "white",
             "startlinecolor": "#2a3f5f"
            },
            "baxis": {
             "endlinecolor": "#2a3f5f",
             "gridcolor": "white",
             "linecolor": "white",
             "minorgridcolor": "white",
             "startlinecolor": "#2a3f5f"
            },
            "type": "carpet"
           }
          ],
          "choropleth": [
           {
            "colorbar": {
             "outlinewidth": 0,
             "ticks": ""
            },
            "type": "choropleth"
           }
          ],
          "contour": [
           {
            "colorbar": {
             "outlinewidth": 0,
             "ticks": ""
            },
            "colorscale": [
             [
              0,
              "#0d0887"
             ],
             [
              0.1111111111111111,
              "#46039f"
             ],
             [
              0.2222222222222222,
              "#7201a8"
             ],
             [
              0.3333333333333333,
              "#9c179e"
             ],
             [
              0.4444444444444444,
              "#bd3786"
             ],
             [
              0.5555555555555556,
              "#d8576b"
             ],
             [
              0.6666666666666666,
              "#ed7953"
             ],
             [
              0.7777777777777778,
              "#fb9f3a"
             ],
             [
              0.8888888888888888,
              "#fdca26"
             ],
             [
              1,
              "#f0f921"
             ]
            ],
            "type": "contour"
           }
          ],
          "contourcarpet": [
           {
            "colorbar": {
             "outlinewidth": 0,
             "ticks": ""
            },
            "type": "contourcarpet"
           }
          ],
          "heatmap": [
           {
            "colorbar": {
             "outlinewidth": 0,
             "ticks": ""
            },
            "colorscale": [
             [
              0,
              "#0d0887"
             ],
             [
              0.1111111111111111,
              "#46039f"
             ],
             [
              0.2222222222222222,
              "#7201a8"
             ],
             [
              0.3333333333333333,
              "#9c179e"
             ],
             [
              0.4444444444444444,
              "#bd3786"
             ],
             [
              0.5555555555555556,
              "#d8576b"
             ],
             [
              0.6666666666666666,
              "#ed7953"
             ],
             [
              0.7777777777777778,
              "#fb9f3a"
             ],
             [
              0.8888888888888888,
              "#fdca26"
             ],
             [
              1,
              "#f0f921"
             ]
            ],
            "type": "heatmap"
           }
          ],
          "histogram": [
           {
            "marker": {
             "pattern": {
              "fillmode": "overlay",
              "size": 10,
              "solidity": 0.2
             }
            },
            "type": "histogram"
           }
          ],
          "histogram2d": [
           {
            "colorbar": {
             "outlinewidth": 0,
             "ticks": ""
            },
            "colorscale": [
             [
              0,
              "#0d0887"
             ],
             [
              0.1111111111111111,
              "#46039f"
             ],
             [
              0.2222222222222222,
              "#7201a8"
             ],
             [
              0.3333333333333333,
              "#9c179e"
             ],
             [
              0.4444444444444444,
              "#bd3786"
             ],
             [
              0.5555555555555556,
              "#d8576b"
             ],
             [
              0.6666666666666666,
              "#ed7953"
             ],
             [
              0.7777777777777778,
              "#fb9f3a"
             ],
             [
              0.8888888888888888,
              "#fdca26"
             ],
             [
              1,
              "#f0f921"
             ]
            ],
            "type": "histogram2d"
           }
          ],
          "histogram2dcontour": [
           {
            "colorbar": {
             "outlinewidth": 0,
             "ticks": ""
            },
            "colorscale": [
             [
              0,
              "#0d0887"
             ],
             [
              0.1111111111111111,
              "#46039f"
             ],
             [
              0.2222222222222222,
              "#7201a8"
             ],
             [
              0.3333333333333333,
              "#9c179e"
             ],
             [
              0.4444444444444444,
              "#bd3786"
             ],
             [
              0.5555555555555556,
              "#d8576b"
             ],
             [
              0.6666666666666666,
              "#ed7953"
             ],
             [
              0.7777777777777778,
              "#fb9f3a"
             ],
             [
              0.8888888888888888,
              "#fdca26"
             ],
             [
              1,
              "#f0f921"
             ]
            ],
            "type": "histogram2dcontour"
           }
          ],
          "mesh3d": [
           {
            "colorbar": {
             "outlinewidth": 0,
             "ticks": ""
            },
            "type": "mesh3d"
           }
          ],
          "parcoords": [
           {
            "line": {
             "colorbar": {
              "outlinewidth": 0,
              "ticks": ""
             }
            },
            "type": "parcoords"
           }
          ],
          "pie": [
           {
            "automargin": true,
            "type": "pie"
           }
          ],
          "scatter": [
           {
            "fillpattern": {
             "fillmode": "overlay",
             "size": 10,
             "solidity": 0.2
            },
            "type": "scatter"
           }
          ],
          "scatter3d": [
           {
            "line": {
             "colorbar": {
              "outlinewidth": 0,
              "ticks": ""
             }
            },
            "marker": {
             "colorbar": {
              "outlinewidth": 0,
              "ticks": ""
             }
            },
            "type": "scatter3d"
           }
          ],
          "scattercarpet": [
           {
            "marker": {
             "colorbar": {
              "outlinewidth": 0,
              "ticks": ""
             }
            },
            "type": "scattercarpet"
           }
          ],
          "scattergeo": [
           {
            "marker": {
             "colorbar": {
              "outlinewidth": 0,
              "ticks": ""
             }
            },
            "type": "scattergeo"
           }
          ],
          "scattergl": [
           {
            "marker": {
             "colorbar": {
              "outlinewidth": 0,
              "ticks": ""
             }
            },
            "type": "scattergl"
           }
          ],
          "scattermap": [
           {
            "marker": {
             "colorbar": {
              "outlinewidth": 0,
              "ticks": ""
             }
            },
            "type": "scattermap"
           }
          ],
          "scattermapbox": [
           {
            "marker": {
             "colorbar": {
              "outlinewidth": 0,
              "ticks": ""
             }
            },
            "type": "scattermapbox"
           }
          ],
          "scatterpolar": [
           {
            "marker": {
             "colorbar": {
              "outlinewidth": 0,
              "ticks": ""
             }
            },
            "type": "scatterpolar"
           }
          ],
          "scatterpolargl": [
           {
            "marker": {
             "colorbar": {
              "outlinewidth": 0,
              "ticks": ""
             }
            },
            "type": "scatterpolargl"
           }
          ],
          "scatterternary": [
           {
            "marker": {
             "colorbar": {
              "outlinewidth": 0,
              "ticks": ""
             }
            },
            "type": "scatterternary"
           }
          ],
          "surface": [
           {
            "colorbar": {
             "outlinewidth": 0,
             "ticks": ""
            },
            "colorscale": [
             [
              0,
              "#0d0887"
             ],
             [
              0.1111111111111111,
              "#46039f"
             ],
             [
              0.2222222222222222,
              "#7201a8"
             ],
             [
              0.3333333333333333,
              "#9c179e"
             ],
             [
              0.4444444444444444,
              "#bd3786"
             ],
             [
              0.5555555555555556,
              "#d8576b"
             ],
             [
              0.6666666666666666,
              "#ed7953"
             ],
             [
              0.7777777777777778,
              "#fb9f3a"
             ],
             [
              0.8888888888888888,
              "#fdca26"
             ],
             [
              1,
              "#f0f921"
             ]
            ],
            "type": "surface"
           }
          ],
          "table": [
           {
            "cells": {
             "fill": {
              "color": "#EBF0F8"
             },
             "line": {
              "color": "white"
             }
            },
            "header": {
             "fill": {
              "color": "#C8D4E3"
             },
             "line": {
              "color": "white"
             }
            },
            "type": "table"
           }
          ]
         },
         "layout": {
          "annotationdefaults": {
           "arrowcolor": "#2a3f5f",
           "arrowhead": 0,
           "arrowwidth": 1
          },
          "autotypenumbers": "strict",
          "coloraxis": {
           "colorbar": {
            "outlinewidth": 0,
            "ticks": ""
           }
          },
          "colorscale": {
           "diverging": [
            [
             0,
             "#8e0152"
            ],
            [
             0.1,
             "#c51b7d"
            ],
            [
             0.2,
             "#de77ae"
            ],
            [
             0.3,
             "#f1b6da"
            ],
            [
             0.4,
             "#fde0ef"
            ],
            [
             0.5,
             "#f7f7f7"
            ],
            [
             0.6,
             "#e6f5d0"
            ],
            [
             0.7,
             "#b8e186"
            ],
            [
             0.8,
             "#7fbc41"
            ],
            [
             0.9,
             "#4d9221"
            ],
            [
             1,
             "#276419"
            ]
           ],
           "sequential": [
            [
             0,
             "#0d0887"
            ],
            [
             0.1111111111111111,
             "#46039f"
            ],
            [
             0.2222222222222222,
             "#7201a8"
            ],
            [
             0.3333333333333333,
             "#9c179e"
            ],
            [
             0.4444444444444444,
             "#bd3786"
            ],
            [
             0.5555555555555556,
             "#d8576b"
            ],
            [
             0.6666666666666666,
             "#ed7953"
            ],
            [
             0.7777777777777778,
             "#fb9f3a"
            ],
            [
             0.8888888888888888,
             "#fdca26"
            ],
            [
             1,
             "#f0f921"
            ]
           ],
           "sequentialminus": [
            [
             0,
             "#0d0887"
            ],
            [
             0.1111111111111111,
             "#46039f"
            ],
            [
             0.2222222222222222,
             "#7201a8"
            ],
            [
             0.3333333333333333,
             "#9c179e"
            ],
            [
             0.4444444444444444,
             "#bd3786"
            ],
            [
             0.5555555555555556,
             "#d8576b"
            ],
            [
             0.6666666666666666,
             "#ed7953"
            ],
            [
             0.7777777777777778,
             "#fb9f3a"
            ],
            [
             0.8888888888888888,
             "#fdca26"
            ],
            [
             1,
             "#f0f921"
            ]
           ]
          },
          "colorway": [
           "#636efa",
           "#EF553B",
           "#00cc96",
           "#ab63fa",
           "#FFA15A",
           "#19d3f3",
           "#FF6692",
           "#B6E880",
           "#FF97FF",
           "#FECB52"
          ],
          "font": {
           "color": "#2a3f5f"
          },
          "geo": {
           "bgcolor": "white",
           "lakecolor": "white",
           "landcolor": "#E5ECF6",
           "showlakes": true,
           "showland": true,
           "subunitcolor": "white"
          },
          "hoverlabel": {
           "align": "left"
          },
          "hovermode": "closest",
          "mapbox": {
           "style": "light"
          },
          "paper_bgcolor": "white",
          "plot_bgcolor": "#E5ECF6",
          "polar": {
           "angularaxis": {
            "gridcolor": "white",
            "linecolor": "white",
            "ticks": ""
           },
           "bgcolor": "#E5ECF6",
           "radialaxis": {
            "gridcolor": "white",
            "linecolor": "white",
            "ticks": ""
           }
          },
          "scene": {
           "xaxis": {
            "backgroundcolor": "#E5ECF6",
            "gridcolor": "white",
            "gridwidth": 2,
            "linecolor": "white",
            "showbackground": true,
            "ticks": "",
            "zerolinecolor": "white"
           },
           "yaxis": {
            "backgroundcolor": "#E5ECF6",
            "gridcolor": "white",
            "gridwidth": 2,
            "linecolor": "white",
            "showbackground": true,
            "ticks": "",
            "zerolinecolor": "white"
           },
           "zaxis": {
            "backgroundcolor": "#E5ECF6",
            "gridcolor": "white",
            "gridwidth": 2,
            "linecolor": "white",
            "showbackground": true,
            "ticks": "",
            "zerolinecolor": "white"
           }
          },
          "shapedefaults": {
           "line": {
            "color": "#2a3f5f"
           }
          },
          "ternary": {
           "aaxis": {
            "gridcolor": "white",
            "linecolor": "white",
            "ticks": ""
           },
           "baxis": {
            "gridcolor": "white",
            "linecolor": "white",
            "ticks": ""
           },
           "bgcolor": "#E5ECF6",
           "caxis": {
            "gridcolor": "white",
            "linecolor": "white",
            "ticks": ""
           }
          },
          "title": {
           "x": 0.05
          },
          "xaxis": {
           "automargin": true,
           "gridcolor": "white",
           "linecolor": "white",
           "ticks": "",
           "title": {
            "standoff": 15
           },
           "zerolinecolor": "white",
           "zerolinewidth": 2
          },
          "yaxis": {
           "automargin": true,
           "gridcolor": "white",
           "linecolor": "white",
           "ticks": "",
           "title": {
            "standoff": 15
           },
           "zerolinecolor": "white",
           "zerolinewidth": 2
          }
         }
        },
        "title": {
         "text": "Desvio padrão por Categoria"
        },
        "width": 900,
        "xaxis": {
         "anchor": "y",
         "domain": [
          0,
          1
         ],
         "title": {
          "text": "Preço Médio ($)"
         }
        },
        "yaxis": {
         "anchor": "x",
         "domain": [
          0,
          1
         ],
         "title": {
          "text": "Categoria"
         }
        }
       }
      }
     },
     "metadata": {},
     "output_type": "display_data"
    }
   ],
   "source": [
    "# Agrupando os dados do DataFrame por Categoria e Preço Normal\n",
    "desvio_padrao_categoria = df.groupby('Categoria')['Preco_Normal'].std().reset_index().sort_values(by = 'Preco_Normal', ascending = False)\n",
    "\n",
    "#Coluna para destacar cor\n",
    "desvio_padrao_categoria['Destaque'] = desvio_padrao_categoria['Categoria'].apply(\n",
    "    lambda x: 'Lácteos (Maior Desvio)' if x == 'lacteos' else 'Outras Categorias'\n",
    ")\n",
    "\n",
    "#Gráfico de barras horizontais\n",
    "fig = px.bar(desvio_padrao_categoria, x = 'Preco_Normal', y = 'Categoria', orientation = 'h',\n",
    "            title = 'Desvio padrão por Categoria',\n",
    "            labels = {'Categoria': 'Categoria', 'Preco_Normal': 'Preço Médio ($)'},\n",
    "            width = 900,\n",
    "            color='Destaque',\n",
    "            color_discrete_map={\n",
    "                 'Lácteos (Maior Desvio)': '#1f77b4',\n",
    "                 'Outras Categorias': '#e08214'\n",
    "             })\n",
    "\n",
    "# Exibindo o gráfico\n",
    "fig.show()"
   ]
  },
  {
   "cell_type": "markdown",
   "id": "f90f936a-0ece-4f9a-a7ba-0d04ef11d437",
   "metadata": {},
   "source": [
    "* Outliers pelo Z-score: Índices: 53 a 60 | Quantidade: 8 linhas\n",
    "* Há uma quantidade moderada de outliers.\n",
    "\n",
    "* Pode-se observar que o desvio padrão por categoria aumenta à medida que o preço médio também aumenta.\n"
   ]
  },
  {
   "cell_type": "markdown",
   "id": "8d7bfb64-4b91-494d-a067-5a57002cbd6e",
   "metadata": {},
   "source": [
    "-------------"
   ]
  },
  {
   "cell_type": "markdown",
   "id": "758d7592-4627-4250-9dac-63125d942443",
   "metadata": {},
   "source": [
    "# 5 - Plote um gráfico de mapa interativo agrupando os dados por categoria, marca e trazendo a média de desconto."
   ]
  },
  {
   "cell_type": "code",
   "execution_count": 18,
   "id": "c6cd54b0-818d-4b84-b1c2-c4b231f7e312",
   "metadata": {},
   "outputs": [
    {
     "data": {
      "application/vnd.plotly.v1+json": {
       "config": {
        "plotlyServerURL": "https://plot.ly"
       },
       "data": [
        {
         "hovertemplate": "Categoria=congelados<br>value=%{x}<br>count=%{y}<extra></extra>",
         "legendgroup": "congelados",
         "marker": {
          "color": "#636efa",
          "pattern": {
           "shape": ""
          }
         },
         "name": "congelados",
         "orientation": "v",
         "showlegend": true,
         "textposition": "auto",
         "type": "bar",
         "x": [
          "Magnum",
          "Mega",
          "Viennetta Bresler",
          "Savory",
          "Bresler",
          "Carte Dor",
          "Not Burger",
          "Sahne Nuss",
          "Cuisine & Co",
          "Frutos Del Maipo",
          "Super Beef",
          "San Jorge",
          "Minuto Verde",
          "Not Chicken",
          "Zole",
          "Turkey Hill",
          "Tivoni",
          "Super Pollo",
          "Super Cerdo",
          "San Francisco De Loncomilla",
          "Sadia",
          "Rock",
          "Rikü",
          "Receta Del Abuelo",
          "PF",
          "Not Ice Cream",
          "Mister Veggie",
          "La Crianza",
          "King",
          "Guallarauco",
          "Fiesta",
          "Bravissimo",
          "Alimentos Shen"
         ],
         "xaxis": "x",
         "y": {
          "bdata": "AQEBAQEBAQEBAQEBAQEBAQEBAQEBAQEBAQEBAQEBAQEB",
          "dtype": "i1"
         },
         "yaxis": "y"
        },
        {
         "hovertemplate": "Categoria=lacteos<br>value=%{x}<br>count=%{y}<extra></extra>",
         "legendgroup": "lacteos",
         "marker": {
          "color": "#EF553B",
          "pattern": {
           "shape": ""
          }
         },
         "name": "lacteos",
         "orientation": "v",
         "showlegend": true,
         "textposition": "auto",
         "type": "bar",
         "x": [
          "Nido",
          "Sureña",
          "Not Milk",
          "Santa Marta",
          "Cuisine & Co",
          "Soprole",
          "Colun",
          "Nestlé",
          "Base Culinar",
          "Svelty",
          "Astra",
          "Activia",
          "1+1 Soprole",
          "Surlat",
          "Zerolacto",
          "Yogu - Yogu",
          "Bonella",
          "Soprole Activ",
          "Chiquitín",
          "Calan",
          "Los Alerces",
          "Omega 3",
          "Next",
          "Nesquik",
          "Máxima MP",
          "Pamperita",
          "Qualy",
          "Quillayes",
          "Marco Polo",
          "Regimel",
          "Sahne Nuss",
          "San Ignacio",
          "Santa Isabel",
          "Shake A Shake Lonco Leche",
          "Calo",
          "Light & Free",
          "Lefersa",
          "Signore Mario",
          "Kumey",
          "Ideal",
          "Deline",
          "Danone",
          "Crucina",
          "Copacabana",
          "Collico",
          "Cintazul",
          "Oikos",
          "Chamyto",
          "Loncoleche"
         ],
         "xaxis": "x",
         "y": {
          "bdata": "AQEBAQEBAQEBAQEBAQEBAQEBAQEBAQEBAQEBAQEBAQEBAQEBAQEBAQEBAQEBAQEBAQ==",
          "dtype": "i1"
         },
         "yaxis": "y"
        },
        {
         "hovertemplate": "Categoria=belleza-y-cuidado-personal<br>value=%{x}<br>count=%{y}<extra></extra>",
         "legendgroup": "belleza-y-cuidado-personal",
         "marker": {
          "color": "#00cc96",
          "pattern": {
           "shape": ""
          }
         },
         "name": "belleza-y-cuidado-personal",
         "orientation": "v",
         "showlegend": true,
         "textposition": "auto",
         "type": "bar",
         "x": [
          "Oral Fresh",
          "Rexona Men Clinical",
          "Rexona Clinical",
          "Pantene",
          "Rexona",
          "Rexona Men",
          "BiO",
          "Axe",
          "Aquafresh",
          "Dove",
          "Pepsodent",
          "Protex",
          "Simonds",
          "Dove Men",
          "Always",
          "Colgate",
          "Nosotras",
          "Ladysoft",
          "Oral-B",
          "Kotex",
          "Ballerina",
          "Giselle",
          "Schick",
          "Plenitud",
          "Old Spice",
          "Nivea For Men",
          "Nivea",
          "Naturella",
          "Listerine",
          "Linic",
          "Le Sancy",
          "Lady Speed Stick",
          "Ilicit",
          "Herbal Essences",
          "Herbal",
          "Head & Shoulders",
          "Gillette",
          "Garnier",
          "Fructis",
          "Family Care",
          "Familand",
          "Elvive",
          "Elite",
          "Duralón",
          "Dento",
          "Cotosan",
          "Cotidian",
          "Carefree",
          "Brooks",
          "Bellekiss",
          "Babyland",
          "Sedal",
          "Sensodyne",
          "Simond'S",
          "Speed Stick",
          "Vanart",
          "Tío Nacho",
          "Trianon",
          "Tena"
         ],
         "xaxis": "x",
         "y": {
          "bdata": "AQEBAQEBAQEBAQEBAQEBAQEBAQEBAQEBAQEBAQEBAQEBAQEBAQEBAQEBAQEBAQEBAQEBAQEBAQEBAQE=",
          "dtype": "i1"
         },
         "yaxis": "y"
        },
        {
         "hovertemplate": "Categoria=comidas-preparadas<br>value=%{x}<br>count=%{y}<extra></extra>",
         "legendgroup": "comidas-preparadas",
         "marker": {
          "color": "#ab63fa",
          "pattern": {
           "shape": ""
          }
         },
         "name": "comidas-preparadas",
         "orientation": "v",
         "showlegend": true,
         "textposition": "auto",
         "type": "bar",
         "x": [
          "PF",
          "Solo Italia",
          "Santa Isabel",
          "Sadia",
          "Rana",
          "La Crianza",
          "Cuisine & Co",
          "Corbac",
          "Bredenmaster"
         ],
         "xaxis": "x",
         "y": {
          "bdata": "AQEBAQEBAQEB",
          "dtype": "i1"
         },
         "yaxis": "y"
        },
        {
         "hovertemplate": "Categoria=instantaneos-y-sopas<br>value=%{x}<br>count=%{y}<extra></extra>",
         "legendgroup": "instantaneos-y-sopas",
         "marker": {
          "color": "#FFA15A",
          "pattern": {
           "shape": ""
          }
         },
         "name": "instantaneos-y-sopas",
         "orientation": "v",
         "showlegend": true,
         "textposition": "auto",
         "type": "bar",
         "x": [
          "Traverso",
          "Naturezza",
          "Santa Isabel",
          "Máxima MP",
          "Maggi",
          "Hoffmann",
          "Gourmet",
          "Cuisine & Co",
          "Carozzi",
          "Alcafood"
         ],
         "xaxis": "x",
         "y": {
          "bdata": "AQEBAQEBAQEBAQ==",
          "dtype": "i1"
         },
         "yaxis": "y"
        },
        {
         "hovertemplate": "Categoria=verduras<br>value=%{x}<br>count=%{y}<extra></extra>",
         "legendgroup": "verduras",
         "marker": {
          "color": "#19d3f3",
          "pattern": {
           "shape": ""
          }
         },
         "name": "verduras",
         "orientation": "v",
         "showlegend": true,
         "textposition": "auto",
         "type": "bar",
         "x": [
          "Agrosano",
          "Dole",
          "Frutas Y Verduras Propias",
          "Jumbo"
         ],
         "xaxis": "x",
         "y": {
          "bdata": "AQEBAQ==",
          "dtype": "i1"
         },
         "yaxis": "y"
        },
        {
         "hovertemplate": "Categoria=frutas<br>value=%{x}<br>count=%{y}<extra></extra>",
         "legendgroup": "frutas",
         "marker": {
          "color": "#FF6692",
          "pattern": {
           "shape": ""
          }
         },
         "name": "frutas",
         "orientation": "v",
         "showlegend": true,
         "textposition": "auto",
         "type": "bar",
         "x": [
          "Sofruco",
          "Frutas Y Verduras Santa Isabel",
          "Frutas Y Verduras Propias"
         ],
         "xaxis": "x",
         "y": {
          "bdata": "AQEB",
          "dtype": "i1"
         },
         "yaxis": "y"
        }
       ],
       "layout": {
        "barmode": "relative",
        "legend": {
         "title": {
          "text": "Categoria"
         },
         "tracegroupgap": 0
        },
        "template": {
         "data": {
          "bar": [
           {
            "error_x": {
             "color": "#2a3f5f"
            },
            "error_y": {
             "color": "#2a3f5f"
            },
            "marker": {
             "line": {
              "color": "#E5ECF6",
              "width": 0.5
             },
             "pattern": {
              "fillmode": "overlay",
              "size": 10,
              "solidity": 0.2
             }
            },
            "type": "bar"
           }
          ],
          "barpolar": [
           {
            "marker": {
             "line": {
              "color": "#E5ECF6",
              "width": 0.5
             },
             "pattern": {
              "fillmode": "overlay",
              "size": 10,
              "solidity": 0.2
             }
            },
            "type": "barpolar"
           }
          ],
          "carpet": [
           {
            "aaxis": {
             "endlinecolor": "#2a3f5f",
             "gridcolor": "white",
             "linecolor": "white",
             "minorgridcolor": "white",
             "startlinecolor": "#2a3f5f"
            },
            "baxis": {
             "endlinecolor": "#2a3f5f",
             "gridcolor": "white",
             "linecolor": "white",
             "minorgridcolor": "white",
             "startlinecolor": "#2a3f5f"
            },
            "type": "carpet"
           }
          ],
          "choropleth": [
           {
            "colorbar": {
             "outlinewidth": 0,
             "ticks": ""
            },
            "type": "choropleth"
           }
          ],
          "contour": [
           {
            "colorbar": {
             "outlinewidth": 0,
             "ticks": ""
            },
            "colorscale": [
             [
              0,
              "#0d0887"
             ],
             [
              0.1111111111111111,
              "#46039f"
             ],
             [
              0.2222222222222222,
              "#7201a8"
             ],
             [
              0.3333333333333333,
              "#9c179e"
             ],
             [
              0.4444444444444444,
              "#bd3786"
             ],
             [
              0.5555555555555556,
              "#d8576b"
             ],
             [
              0.6666666666666666,
              "#ed7953"
             ],
             [
              0.7777777777777778,
              "#fb9f3a"
             ],
             [
              0.8888888888888888,
              "#fdca26"
             ],
             [
              1,
              "#f0f921"
             ]
            ],
            "type": "contour"
           }
          ],
          "contourcarpet": [
           {
            "colorbar": {
             "outlinewidth": 0,
             "ticks": ""
            },
            "type": "contourcarpet"
           }
          ],
          "heatmap": [
           {
            "colorbar": {
             "outlinewidth": 0,
             "ticks": ""
            },
            "colorscale": [
             [
              0,
              "#0d0887"
             ],
             [
              0.1111111111111111,
              "#46039f"
             ],
             [
              0.2222222222222222,
              "#7201a8"
             ],
             [
              0.3333333333333333,
              "#9c179e"
             ],
             [
              0.4444444444444444,
              "#bd3786"
             ],
             [
              0.5555555555555556,
              "#d8576b"
             ],
             [
              0.6666666666666666,
              "#ed7953"
             ],
             [
              0.7777777777777778,
              "#fb9f3a"
             ],
             [
              0.8888888888888888,
              "#fdca26"
             ],
             [
              1,
              "#f0f921"
             ]
            ],
            "type": "heatmap"
           }
          ],
          "histogram": [
           {
            "marker": {
             "pattern": {
              "fillmode": "overlay",
              "size": 10,
              "solidity": 0.2
             }
            },
            "type": "histogram"
           }
          ],
          "histogram2d": [
           {
            "colorbar": {
             "outlinewidth": 0,
             "ticks": ""
            },
            "colorscale": [
             [
              0,
              "#0d0887"
             ],
             [
              0.1111111111111111,
              "#46039f"
             ],
             [
              0.2222222222222222,
              "#7201a8"
             ],
             [
              0.3333333333333333,
              "#9c179e"
             ],
             [
              0.4444444444444444,
              "#bd3786"
             ],
             [
              0.5555555555555556,
              "#d8576b"
             ],
             [
              0.6666666666666666,
              "#ed7953"
             ],
             [
              0.7777777777777778,
              "#fb9f3a"
             ],
             [
              0.8888888888888888,
              "#fdca26"
             ],
             [
              1,
              "#f0f921"
             ]
            ],
            "type": "histogram2d"
           }
          ],
          "histogram2dcontour": [
           {
            "colorbar": {
             "outlinewidth": 0,
             "ticks": ""
            },
            "colorscale": [
             [
              0,
              "#0d0887"
             ],
             [
              0.1111111111111111,
              "#46039f"
             ],
             [
              0.2222222222222222,
              "#7201a8"
             ],
             [
              0.3333333333333333,
              "#9c179e"
             ],
             [
              0.4444444444444444,
              "#bd3786"
             ],
             [
              0.5555555555555556,
              "#d8576b"
             ],
             [
              0.6666666666666666,
              "#ed7953"
             ],
             [
              0.7777777777777778,
              "#fb9f3a"
             ],
             [
              0.8888888888888888,
              "#fdca26"
             ],
             [
              1,
              "#f0f921"
             ]
            ],
            "type": "histogram2dcontour"
           }
          ],
          "mesh3d": [
           {
            "colorbar": {
             "outlinewidth": 0,
             "ticks": ""
            },
            "type": "mesh3d"
           }
          ],
          "parcoords": [
           {
            "line": {
             "colorbar": {
              "outlinewidth": 0,
              "ticks": ""
             }
            },
            "type": "parcoords"
           }
          ],
          "pie": [
           {
            "automargin": true,
            "type": "pie"
           }
          ],
          "scatter": [
           {
            "fillpattern": {
             "fillmode": "overlay",
             "size": 10,
             "solidity": 0.2
            },
            "type": "scatter"
           }
          ],
          "scatter3d": [
           {
            "line": {
             "colorbar": {
              "outlinewidth": 0,
              "ticks": ""
             }
            },
            "marker": {
             "colorbar": {
              "outlinewidth": 0,
              "ticks": ""
             }
            },
            "type": "scatter3d"
           }
          ],
          "scattercarpet": [
           {
            "marker": {
             "colorbar": {
              "outlinewidth": 0,
              "ticks": ""
             }
            },
            "type": "scattercarpet"
           }
          ],
          "scattergeo": [
           {
            "marker": {
             "colorbar": {
              "outlinewidth": 0,
              "ticks": ""
             }
            },
            "type": "scattergeo"
           }
          ],
          "scattergl": [
           {
            "marker": {
             "colorbar": {
              "outlinewidth": 0,
              "ticks": ""
             }
            },
            "type": "scattergl"
           }
          ],
          "scattermap": [
           {
            "marker": {
             "colorbar": {
              "outlinewidth": 0,
              "ticks": ""
             }
            },
            "type": "scattermap"
           }
          ],
          "scattermapbox": [
           {
            "marker": {
             "colorbar": {
              "outlinewidth": 0,
              "ticks": ""
             }
            },
            "type": "scattermapbox"
           }
          ],
          "scatterpolar": [
           {
            "marker": {
             "colorbar": {
              "outlinewidth": 0,
              "ticks": ""
             }
            },
            "type": "scatterpolar"
           }
          ],
          "scatterpolargl": [
           {
            "marker": {
             "colorbar": {
              "outlinewidth": 0,
              "ticks": ""
             }
            },
            "type": "scatterpolargl"
           }
          ],
          "scatterternary": [
           {
            "marker": {
             "colorbar": {
              "outlinewidth": 0,
              "ticks": ""
             }
            },
            "type": "scatterternary"
           }
          ],
          "surface": [
           {
            "colorbar": {
             "outlinewidth": 0,
             "ticks": ""
            },
            "colorscale": [
             [
              0,
              "#0d0887"
             ],
             [
              0.1111111111111111,
              "#46039f"
             ],
             [
              0.2222222222222222,
              "#7201a8"
             ],
             [
              0.3333333333333333,
              "#9c179e"
             ],
             [
              0.4444444444444444,
              "#bd3786"
             ],
             [
              0.5555555555555556,
              "#d8576b"
             ],
             [
              0.6666666666666666,
              "#ed7953"
             ],
             [
              0.7777777777777778,
              "#fb9f3a"
             ],
             [
              0.8888888888888888,
              "#fdca26"
             ],
             [
              1,
              "#f0f921"
             ]
            ],
            "type": "surface"
           }
          ],
          "table": [
           {
            "cells": {
             "fill": {
              "color": "#EBF0F8"
             },
             "line": {
              "color": "white"
             }
            },
            "header": {
             "fill": {
              "color": "#C8D4E3"
             },
             "line": {
              "color": "white"
             }
            },
            "type": "table"
           }
          ]
         },
         "layout": {
          "annotationdefaults": {
           "arrowcolor": "#2a3f5f",
           "arrowhead": 0,
           "arrowwidth": 1
          },
          "autotypenumbers": "strict",
          "coloraxis": {
           "colorbar": {
            "outlinewidth": 0,
            "ticks": ""
           }
          },
          "colorscale": {
           "diverging": [
            [
             0,
             "#8e0152"
            ],
            [
             0.1,
             "#c51b7d"
            ],
            [
             0.2,
             "#de77ae"
            ],
            [
             0.3,
             "#f1b6da"
            ],
            [
             0.4,
             "#fde0ef"
            ],
            [
             0.5,
             "#f7f7f7"
            ],
            [
             0.6,
             "#e6f5d0"
            ],
            [
             0.7,
             "#b8e186"
            ],
            [
             0.8,
             "#7fbc41"
            ],
            [
             0.9,
             "#4d9221"
            ],
            [
             1,
             "#276419"
            ]
           ],
           "sequential": [
            [
             0,
             "#0d0887"
            ],
            [
             0.1111111111111111,
             "#46039f"
            ],
            [
             0.2222222222222222,
             "#7201a8"
            ],
            [
             0.3333333333333333,
             "#9c179e"
            ],
            [
             0.4444444444444444,
             "#bd3786"
            ],
            [
             0.5555555555555556,
             "#d8576b"
            ],
            [
             0.6666666666666666,
             "#ed7953"
            ],
            [
             0.7777777777777778,
             "#fb9f3a"
            ],
            [
             0.8888888888888888,
             "#fdca26"
            ],
            [
             1,
             "#f0f921"
            ]
           ],
           "sequentialminus": [
            [
             0,
             "#0d0887"
            ],
            [
             0.1111111111111111,
             "#46039f"
            ],
            [
             0.2222222222222222,
             "#7201a8"
            ],
            [
             0.3333333333333333,
             "#9c179e"
            ],
            [
             0.4444444444444444,
             "#bd3786"
            ],
            [
             0.5555555555555556,
             "#d8576b"
            ],
            [
             0.6666666666666666,
             "#ed7953"
            ],
            [
             0.7777777777777778,
             "#fb9f3a"
            ],
            [
             0.8888888888888888,
             "#fdca26"
            ],
            [
             1,
             "#f0f921"
            ]
           ]
          },
          "colorway": [
           "#636efa",
           "#EF553B",
           "#00cc96",
           "#ab63fa",
           "#FFA15A",
           "#19d3f3",
           "#FF6692",
           "#B6E880",
           "#FF97FF",
           "#FECB52"
          ],
          "font": {
           "color": "#2a3f5f"
          },
          "geo": {
           "bgcolor": "white",
           "lakecolor": "white",
           "landcolor": "#E5ECF6",
           "showlakes": true,
           "showland": true,
           "subunitcolor": "white"
          },
          "hoverlabel": {
           "align": "left"
          },
          "hovermode": "closest",
          "mapbox": {
           "style": "light"
          },
          "paper_bgcolor": "white",
          "plot_bgcolor": "#E5ECF6",
          "polar": {
           "angularaxis": {
            "gridcolor": "white",
            "linecolor": "white",
            "ticks": ""
           },
           "bgcolor": "#E5ECF6",
           "radialaxis": {
            "gridcolor": "white",
            "linecolor": "white",
            "ticks": ""
           }
          },
          "scene": {
           "xaxis": {
            "backgroundcolor": "#E5ECF6",
            "gridcolor": "white",
            "gridwidth": 2,
            "linecolor": "white",
            "showbackground": true,
            "ticks": "",
            "zerolinecolor": "white"
           },
           "yaxis": {
            "backgroundcolor": "#E5ECF6",
            "gridcolor": "white",
            "gridwidth": 2,
            "linecolor": "white",
            "showbackground": true,
            "ticks": "",
            "zerolinecolor": "white"
           },
           "zaxis": {
            "backgroundcolor": "#E5ECF6",
            "gridcolor": "white",
            "gridwidth": 2,
            "linecolor": "white",
            "showbackground": true,
            "ticks": "",
            "zerolinecolor": "white"
           }
          },
          "shapedefaults": {
           "line": {
            "color": "#2a3f5f"
           }
          },
          "ternary": {
           "aaxis": {
            "gridcolor": "white",
            "linecolor": "white",
            "ticks": ""
           },
           "baxis": {
            "gridcolor": "white",
            "linecolor": "white",
            "ticks": ""
           },
           "bgcolor": "#E5ECF6",
           "caxis": {
            "gridcolor": "white",
            "linecolor": "white",
            "ticks": ""
           }
          },
          "title": {
           "x": 0.05
          },
          "xaxis": {
           "automargin": true,
           "gridcolor": "white",
           "linecolor": "white",
           "ticks": "",
           "title": {
            "standoff": 15
           },
           "zerolinecolor": "white",
           "zerolinewidth": 2
          },
          "yaxis": {
           "automargin": true,
           "gridcolor": "white",
           "linecolor": "white",
           "ticks": "",
           "title": {
            "standoff": 15
           },
           "zerolinecolor": "white",
           "zerolinewidth": 2
          }
         }
        },
        "title": {
         "text": "Desconto por Categoria e Marca"
        },
        "updatemenus": [
         {
          "buttons": [
           {
            "args": [
             {
              "visible": [
               true,
               true,
               true,
               true,
               true,
               true,
               true,
               true,
               true,
               true,
               true,
               true,
               true,
               true,
               true,
               true,
               true,
               true,
               true,
               true,
               true,
               true,
               true,
               true,
               true,
               true,
               true,
               true,
               true,
               true,
               true,
               true,
               true,
               true,
               true,
               true,
               true,
               true,
               true,
               true,
               true,
               true,
               true,
               true,
               true,
               true,
               true,
               true,
               true,
               true,
               true,
               true,
               true,
               true,
               true,
               true,
               true,
               true,
               true,
               true,
               true,
               true,
               true,
               true,
               true,
               true,
               true,
               true,
               true,
               true,
               true,
               true,
               true,
               true,
               true,
               true,
               true,
               true,
               true,
               true,
               true,
               true,
               true,
               true,
               true,
               true,
               true,
               true,
               true,
               true,
               true,
               true,
               true,
               true,
               true,
               true,
               true,
               true,
               true,
               true,
               true,
               true,
               true,
               true,
               true,
               true,
               true,
               true,
               true,
               true,
               true,
               true,
               true,
               true,
               true,
               true,
               true,
               true,
               true,
               true,
               true,
               true,
               true,
               true,
               true,
               true,
               true,
               true,
               true,
               true,
               true,
               true,
               true,
               true,
               true,
               true,
               true,
               true,
               true,
               true,
               true,
               true,
               true,
               true,
               true,
               true,
               true,
               true,
               true,
               true,
               true,
               true,
               true,
               true,
               true,
               true,
               true,
               true,
               true,
               true,
               true,
               true,
               true,
               true,
               true,
               true,
               true
              ]
             }
            ],
            "label": "Todas",
            "method": "restyle"
           },
           {
            "args": [
             {
              "visible": [
               true,
               false,
               false,
               false,
               false,
               false,
               false,
               false,
               true,
               false,
               false,
               true,
               true,
               false,
               false,
               true,
               true,
               false,
               false,
               false,
               false,
               false,
               true,
               false,
               true,
               false,
               false,
               true,
               true,
               false,
               true,
               false,
               false,
               false,
               false,
               true,
               false,
               false,
               true,
               false,
               false,
               false,
               false,
               false,
               false,
               false,
               false,
               false,
               false,
               false,
               false,
               false,
               false,
               false,
               false,
               false,
               false,
               false,
               false,
               false,
               false,
               false,
               false,
               false,
               false,
               false,
               false,
               false,
               false,
               false,
               false,
               false,
               false,
               false,
               false,
               false,
               false,
               false,
               false,
               false,
               false,
               false,
               false,
               false,
               false,
               false,
               false,
               false,
               false,
               false,
               false,
               false,
               false,
               false,
               false,
               false,
               false,
               false,
               false,
               false,
               true,
               true,
               false,
               false,
               false,
               false,
               false,
               false,
               false,
               false,
               false,
               false,
               false,
               false,
               false,
               false,
               false,
               false,
               true,
               false,
               false,
               false,
               false,
               false,
               false,
               false,
               false,
               false,
               false,
               false,
               false,
               false,
               false,
               false,
               false,
               false,
               false,
               true,
               true,
               true,
               true,
               true,
               true,
               true,
               true,
               true,
               true,
               true,
               true,
               true,
               true,
               true,
               true,
               true,
               false,
               false,
               false,
               false,
               false,
               false,
               false,
               false,
               false,
               false,
               false,
               false,
               false
              ]
             }
            ],
            "label": "congelados",
            "method": "restyle"
           },
           {
            "args": [
             {
              "visible": [
               false,
               true,
               false,
               false,
               false,
               false,
               false,
               false,
               false,
               false,
               false,
               false,
               false,
               false,
               false,
               false,
               false,
               false,
               false,
               false,
               true,
               false,
               false,
               false,
               false,
               true,
               true,
               false,
               false,
               false,
               false,
               false,
               false,
               false,
               false,
               false,
               false,
               false,
               false,
               true,
               true,
               true,
               true,
               true,
               false,
               true,
               true,
               true,
               true,
               true,
               true,
               true,
               false,
               false,
               false,
               false,
               true,
               false,
               false,
               false,
               false,
               false,
               false,
               false,
               false,
               false,
               false,
               true,
               true,
               true,
               true,
               true,
               true,
               true,
               true,
               true,
               true,
               true,
               true,
               true,
               true,
               true,
               true,
               true,
               false,
               true,
               true,
               true,
               true,
               true,
               true,
               true,
               true,
               true,
               true,
               true,
               true,
               true,
               true,
               true,
               false,
               false,
               false,
               false,
               false,
               false,
               false,
               false,
               false,
               false,
               false,
               false,
               false,
               false,
               false,
               false,
               false,
               false,
               false,
               false,
               false,
               false,
               false,
               false,
               false,
               false,
               false,
               false,
               false,
               false,
               false,
               false,
               false,
               false,
               false,
               false,
               false,
               false,
               false,
               false,
               false,
               false,
               false,
               false,
               false,
               false,
               false,
               false,
               false,
               false,
               false,
               false,
               false,
               false,
               false,
               false,
               false,
               false,
               false,
               false,
               false,
               false,
               false,
               false,
               false,
               false,
               false
              ]
             }
            ],
            "label": "lacteos",
            "method": "restyle"
           },
           {
            "args": [
             {
              "visible": [
               false,
               false,
               true,
               true,
               true,
               true,
               true,
               true,
               false,
               true,
               true,
               false,
               false,
               true,
               true,
               false,
               false,
               true,
               true,
               true,
               false,
               true,
               false,
               false,
               false,
               false,
               false,
               false,
               false,
               true,
               false,
               true,
               true,
               true,
               true,
               false,
               true,
               true,
               false,
               false,
               false,
               false,
               false,
               false,
               false,
               false,
               false,
               false,
               false,
               false,
               false,
               false,
               false,
               false,
               false,
               false,
               false,
               false,
               false,
               false,
               false,
               false,
               false,
               false,
               false,
               false,
               false,
               false,
               false,
               false,
               false,
               false,
               false,
               false,
               false,
               false,
               false,
               false,
               false,
               false,
               false,
               false,
               false,
               false,
               false,
               false,
               false,
               false,
               false,
               false,
               false,
               false,
               false,
               false,
               false,
               false,
               false,
               false,
               false,
               false,
               false,
               false,
               true,
               true,
               true,
               true,
               true,
               true,
               true,
               true,
               true,
               true,
               true,
               true,
               true,
               true,
               true,
               true,
               false,
               true,
               true,
               true,
               true,
               true,
               true,
               true,
               true,
               true,
               true,
               true,
               true,
               true,
               true,
               true,
               true,
               true,
               true,
               false,
               false,
               false,
               false,
               false,
               false,
               false,
               false,
               false,
               false,
               false,
               false,
               false,
               false,
               false,
               false,
               false,
               false,
               false,
               false,
               false,
               false,
               false,
               false,
               false,
               true,
               true,
               true,
               true,
               false
              ]
             }
            ],
            "label": "belleza-y-cuidado-personal",
            "method": "restyle"
           },
           {
            "args": [
             {
              "visible": [
               false,
               false,
               false,
               false,
               false,
               false,
               false,
               false,
               false,
               false,
               false,
               false,
               false,
               false,
               false,
               false,
               false,
               false,
               false,
               false,
               false,
               false,
               false,
               true,
               false,
               false,
               false,
               false,
               false,
               false,
               false,
               false,
               false,
               false,
               false,
               false,
               false,
               false,
               false,
               false,
               false,
               false,
               false,
               false,
               false,
               false,
               false,
               false,
               false,
               false,
               false,
               false,
               false,
               false,
               false,
               false,
               false,
               false,
               false,
               false,
               false,
               false,
               false,
               false,
               false,
               false,
               false,
               false,
               false,
               false,
               false,
               false,
               false,
               false,
               false,
               false,
               false,
               false,
               false,
               false,
               false,
               false,
               false,
               false,
               false,
               false,
               false,
               false,
               false,
               false,
               false,
               false,
               false,
               false,
               false,
               false,
               false,
               false,
               false,
               false,
               false,
               false,
               false,
               false,
               false,
               false,
               false,
               false,
               false,
               false,
               false,
               false,
               false,
               false,
               false,
               false,
               false,
               false,
               false,
               false,
               false,
               false,
               false,
               false,
               false,
               false,
               false,
               false,
               false,
               false,
               false,
               false,
               false,
               false,
               false,
               false,
               false,
               false,
               false,
               false,
               false,
               false,
               false,
               false,
               false,
               false,
               false,
               false,
               false,
               false,
               false,
               false,
               false,
               false,
               true,
               true,
               true,
               true,
               true,
               true,
               true,
               true,
               false,
               false,
               false,
               false,
               false
              ]
             }
            ],
            "label": "comidas-preparadas",
            "method": "restyle"
           },
           {
            "args": [
             {
              "visible": [
               false,
               false,
               false,
               false,
               false,
               false,
               false,
               false,
               false,
               false,
               false,
               false,
               false,
               false,
               false,
               false,
               false,
               false,
               false,
               false,
               false,
               false,
               false,
               false,
               false,
               false,
               false,
               false,
               false,
               false,
               false,
               false,
               false,
               false,
               false,
               false,
               false,
               false,
               false,
               false,
               false,
               false,
               false,
               false,
               true,
               false,
               false,
               false,
               false,
               false,
               false,
               false,
               true,
               false,
               false,
               true,
               false,
               true,
               true,
               true,
               true,
               true,
               false,
               true,
               true,
               false,
               false,
               false,
               false,
               false,
               false,
               false,
               false,
               false,
               false,
               false,
               false,
               false,
               false,
               false,
               false,
               false,
               false,
               false,
               false,
               false,
               false,
               false,
               false,
               false,
               false,
               false,
               false,
               false,
               false,
               false,
               false,
               false,
               false,
               false,
               false,
               false,
               false,
               false,
               false,
               false,
               false,
               false,
               false,
               false,
               false,
               false,
               false,
               false,
               false,
               false,
               false,
               false,
               false,
               false,
               false,
               false,
               false,
               false,
               false,
               false,
               false,
               false,
               false,
               false,
               false,
               false,
               false,
               false,
               false,
               false,
               false,
               false,
               false,
               false,
               false,
               false,
               false,
               false,
               false,
               false,
               false,
               false,
               false,
               false,
               false,
               false,
               false,
               false,
               false,
               false,
               false,
               false,
               false,
               false,
               false,
               false,
               false,
               false,
               false,
               false,
               false
              ]
             }
            ],
            "label": "instantaneos-y-sopas",
            "method": "restyle"
           },
           {
            "args": [
             {
              "visible": [
               false,
               false,
               false,
               false,
               false,
               false,
               false,
               false,
               false,
               false,
               false,
               false,
               false,
               false,
               false,
               false,
               false,
               false,
               false,
               false,
               false,
               false,
               false,
               false,
               false,
               false,
               false,
               false,
               false,
               false,
               false,
               false,
               false,
               false,
               false,
               false,
               false,
               false,
               false,
               false,
               false,
               false,
               false,
               false,
               false,
               false,
               false,
               false,
               false,
               false,
               false,
               false,
               false,
               true,
               true,
               false,
               false,
               false,
               false,
               false,
               false,
               false,
               true,
               false,
               false,
               false,
               false,
               false,
               false,
               false,
               false,
               false,
               false,
               false,
               false,
               false,
               false,
               false,
               false,
               false,
               false,
               false,
               false,
               false,
               false,
               false,
               false,
               false,
               false,
               false,
               false,
               false,
               false,
               false,
               false,
               false,
               false,
               false,
               false,
               false,
               false,
               false,
               false,
               false,
               false,
               false,
               false,
               false,
               false,
               false,
               false,
               false,
               false,
               false,
               false,
               false,
               false,
               false,
               false,
               false,
               false,
               false,
               false,
               false,
               false,
               false,
               false,
               false,
               false,
               false,
               false,
               false,
               false,
               false,
               false,
               false,
               false,
               false,
               false,
               false,
               false,
               false,
               false,
               false,
               false,
               false,
               false,
               false,
               false,
               false,
               false,
               false,
               false,
               false,
               false,
               false,
               false,
               false,
               false,
               false,
               false,
               false,
               false,
               false,
               false,
               false,
               true
              ]
             }
            ],
            "label": "verduras",
            "method": "restyle"
           },
           {
            "args": [
             {
              "visible": [
               false,
               false,
               false,
               false,
               false,
               false,
               false,
               false,
               false,
               false,
               false,
               false,
               false,
               false,
               false,
               false,
               false,
               false,
               false,
               false,
               false,
               false,
               false,
               false,
               false,
               false,
               false,
               false,
               false,
               false,
               false,
               false,
               false,
               false,
               false,
               false,
               false,
               false,
               false,
               false,
               false,
               false,
               false,
               false,
               false,
               false,
               false,
               false,
               false,
               false,
               false,
               false,
               false,
               false,
               false,
               false,
               false,
               false,
               false,
               false,
               false,
               false,
               false,
               false,
               false,
               true,
               true,
               false,
               false,
               false,
               false,
               false,
               false,
               false,
               false,
               false,
               false,
               false,
               false,
               false,
               false,
               false,
               false,
               false,
               true,
               false,
               false,
               false,
               false,
               false,
               false,
               false,
               false,
               false,
               false,
               false,
               false,
               false,
               false,
               false,
               false,
               false,
               false,
               false,
               false,
               false,
               false,
               false,
               false,
               false,
               false,
               false,
               false,
               false,
               false,
               false,
               false,
               false,
               false,
               false,
               false,
               false,
               false,
               false,
               false,
               false,
               false,
               false,
               false,
               false,
               false,
               false,
               false,
               false,
               false,
               false,
               false,
               false,
               false,
               false,
               false,
               false,
               false,
               false,
               false,
               false,
               false,
               false,
               false,
               false,
               false,
               false,
               false,
               false,
               false,
               false,
               false,
               false,
               false,
               false,
               false,
               false,
               false,
               false,
               false,
               false,
               false
              ]
             }
            ],
            "label": "frutas",
            "method": "restyle"
           }
          ],
          "direction": "down",
          "showactive": true
         }
        ],
        "width": 1150,
        "xaxis": {
         "anchor": "y",
         "domain": [
          0,
          1
         ],
         "tickangle": -65,
         "title": {
          "text": "value"
         }
        },
        "yaxis": {
         "anchor": "x",
         "domain": [
          0,
          1
         ],
         "title": {
          "text": "count"
         }
        }
       }
      },
      "image/png": "[encoded data removed]"
     },
     "metadata": {},
     "output_type": "display_data"
    }
   ],
   "source": [
    "# Seu código aqui\n",
    "# Agrupando os dados do DataFrame por Categoria e Marca e calculando a média do Desconto\n",
    "preco_categoria_marca = df.groupby(['Categoria', 'Marca'])['Desconto'].mean().reset_index().sort_values(by = 'Desconto', ascending = False)\n",
    "\n",
    "#Gráfico de barras horizontais\n",
    "fig = px.bar(preco_categoria_marca, x = 'Desconto', y = (['Categoria','Marca']),\n",
    "            title = 'Desconto por Categoria e Marca',\n",
    "            labels = {'Categoria_Marca': 'Categoria e Marca', 'Desconto': 'Desconto (%)'},\n",
    "            color = 'Categoria',\n",
    "            width = 1150)\n",
    "\n",
    "#Criar menu para filtrar categoria\n",
    "categorias = preco_categoria_marca['Categoria'].unique()\n",
    "fig.update_layout(\n",
    "    updatemenus = [\n",
    "        {\n",
    "            'buttons': [\n",
    "                {'label': 'Todas', 'method': 'restyle', 'args': [{'visible': [True] * len(preco_categoria_marca)}]},\n",
    "                *[\n",
    "                    {\n",
    "                        'label': cat,\n",
    "                        'method': 'restyle',\n",
    "                        'args': [{'visible': preco_categoria_marca['Categoria'] == cat}]\n",
    "                    }\n",
    "                    for cat in categorias\n",
    "                ]\n",
    "            ],\n",
    "            'direction': 'down',\n",
    "            'showactive': True\n",
    "        }\n",
    "    ]\n",
    ")\n",
    "\n",
    "fig.update_layout(xaxis_tickangle = -65)\n",
    "fig.show()\n"
   ]
  },
  {
   "cell_type": "markdown",
   "id": "60380b71-7257-4a51-903e-0b8c40d64512",
   "metadata": {},
   "source": [
    "---------"
   ]
  },
  {
   "cell_type": "markdown",
   "id": "005dd815-6933-4054-80ad-b1cd00a12c4c",
   "metadata": {},
   "source": [
    "## ANOTAÇÕES\n",
    "* group by => agrupar os dados do df pela coluna \n",
    "* count() => contar o número de ocorrências da coluna\n",
    "* .reset_index() =>  Resetar o índice do resultado anterior\n",
    "* .sort_values => ordenar os resultados do DataFrame\n",
    "* normalize=True => faz com que os resultados sejam normalizados, ou seja, as contagens são divididas pelo numero total de entradas para fornecer a proporção\n",
    "* .mean() => calcula da media\n",
    "* .sum() => calcula a soma\n",
    "* .median() => calcula a mediana\n",
    "* .mode() => calcula a moda\n",
    "* .std() => calcula o desvio padrão\n",
    "* .describe() => usado para gerar estatísticas descritivas de resumo de um DataFrame"
   ]
  }
 ],
 "metadata": {
  "kernelspec": {
   "display_name": "Python 3 (ipykernel)",
   "language": "python",
   "name": "python3"
  },
  "language_info": {
   "codemirror_mode": {
    "name": "ipython",
    "version": 3
   },
   "file_extension": ".py",
   "mimetype": "text/x-python",
   "name": "python",
   "nbconvert_exporter": "python",
   "pygments_lexer": "ipython3",
   "version": "3.9.13"
  }
 },
 "nbformat": 4,
 "nbformat_minor": 5
}
